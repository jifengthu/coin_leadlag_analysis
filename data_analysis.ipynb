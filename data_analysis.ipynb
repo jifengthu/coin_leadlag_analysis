{
 "cells": [
  {
   "cell_type": "code",
   "execution_count": 1,
   "metadata": {},
   "outputs": [],
   "source": [
    "import pandas as pd\n",
    "\n",
    "data_path = \"/home/jack/coin_analysis/data/{}.zip\" \n",
    "df_fdusd = pd.read_csv(data_path.format(\"BTCFDUSD-1s-2023-12-17\"))\n",
    "df_usdt = pd.read_csv(data_path.format(\"BTCUSDT-1s-2023-12-17\"))\n",
    "\n",
    "df_fdusd.columns = [\"open_time\", \"open\", \"high\", \"low\", \"close\", \"volume\", \"close_time\", \"quote_volume\", \"count\", \"taker_buy_volume\", \"taker_buy_quote_volume\", \"ignore\"]\n",
    "df_usdt.columns = [\"open_time\", \"open\", \"high\", \"low\", \"close\", \"volume\", \"close_time\", \"quote_volume\", \"count\", \"taker_buy_volume\", \"taker_buy_quote_volume\", \"ignore\"]"
   ]
  },
  {
   "cell_type": "code",
   "execution_count": 3,
   "metadata": {},
   "outputs": [],
   "source": [
    "df_fdusd.columns = [\"open_time\", \"open\", \"high\", \"low\", \"close\", \"volume\", \"close_time\", \"quote_volume\", \"count\", \"taker_buy_volume\", \"taker_buy_quote_volume\", \"ignore\"]\n",
    "df_usdt.columns = [\"open_time\", \"open\", \"high\", \"low\", \"close\", \"volume\", \"close_time\", \"quote_volume\", \"count\", \"taker_buy_volume\", \"taker_buy_quote_volume\", \"ignore\"]"
   ]
  },
  {
   "cell_type": "code",
   "execution_count": 4,
   "metadata": {},
   "outputs": [
    {
     "data": {
      "text/html": [
       "<div>\n",
       "<style scoped>\n",
       "    .dataframe tbody tr th:only-of-type {\n",
       "        vertical-align: middle;\n",
       "    }\n",
       "\n",
       "    .dataframe tbody tr th {\n",
       "        vertical-align: top;\n",
       "    }\n",
       "\n",
       "    .dataframe thead th {\n",
       "        text-align: right;\n",
       "    }\n",
       "</style>\n",
       "<table border=\"1\" class=\"dataframe\">\n",
       "  <thead>\n",
       "    <tr style=\"text-align: right;\">\n",
       "      <th></th>\n",
       "      <th>open_time</th>\n",
       "      <th>open</th>\n",
       "      <th>high</th>\n",
       "      <th>low</th>\n",
       "      <th>close</th>\n",
       "      <th>volume</th>\n",
       "      <th>close_time</th>\n",
       "      <th>quote_volume</th>\n",
       "      <th>count</th>\n",
       "      <th>taker_buy_volume</th>\n",
       "      <th>taker_buy_quote_volume</th>\n",
       "      <th>ignore</th>\n",
       "    </tr>\n",
       "  </thead>\n",
       "  <tbody>\n",
       "    <tr>\n",
       "      <th>0</th>\n",
       "      <td>1702771201000</td>\n",
       "      <td>42345.33</td>\n",
       "      <td>42345.87</td>\n",
       "      <td>42343.50</td>\n",
       "      <td>42343.50</td>\n",
       "      <td>0.10661</td>\n",
       "      <td>1702771201999</td>\n",
       "      <td>4514.444577</td>\n",
       "      <td>15</td>\n",
       "      <td>0.10625</td>\n",
       "      <td>4499.200809</td>\n",
       "      <td>0</td>\n",
       "    </tr>\n",
       "    <tr>\n",
       "      <th>1</th>\n",
       "      <td>1702771202000</td>\n",
       "      <td>42345.21</td>\n",
       "      <td>42346.14</td>\n",
       "      <td>42343.50</td>\n",
       "      <td>42346.14</td>\n",
       "      <td>0.38771</td>\n",
       "      <td>1702771202999</td>\n",
       "      <td>16417.844110</td>\n",
       "      <td>24</td>\n",
       "      <td>0.38756</td>\n",
       "      <td>16411.492585</td>\n",
       "      <td>0</td>\n",
       "    </tr>\n",
       "    <tr>\n",
       "      <th>2</th>\n",
       "      <td>1702771203000</td>\n",
       "      <td>42346.33</td>\n",
       "      <td>42346.60</td>\n",
       "      <td>42339.73</td>\n",
       "      <td>42345.40</td>\n",
       "      <td>0.74889</td>\n",
       "      <td>1702771203999</td>\n",
       "      <td>31710.160056</td>\n",
       "      <td>64</td>\n",
       "      <td>0.37118</td>\n",
       "      <td>15716.851135</td>\n",
       "      <td>0</td>\n",
       "    </tr>\n",
       "    <tr>\n",
       "      <th>3</th>\n",
       "      <td>1702771204000</td>\n",
       "      <td>42345.40</td>\n",
       "      <td>42347.33</td>\n",
       "      <td>42336.31</td>\n",
       "      <td>42340.59</td>\n",
       "      <td>2.15105</td>\n",
       "      <td>1702771204999</td>\n",
       "      <td>91079.942084</td>\n",
       "      <td>146</td>\n",
       "      <td>0.71524</td>\n",
       "      <td>30286.018526</td>\n",
       "      <td>0</td>\n",
       "    </tr>\n",
       "    <tr>\n",
       "      <th>4</th>\n",
       "      <td>1702771205000</td>\n",
       "      <td>42342.50</td>\n",
       "      <td>42352.74</td>\n",
       "      <td>42340.89</td>\n",
       "      <td>42348.95</td>\n",
       "      <td>1.89997</td>\n",
       "      <td>1702771205999</td>\n",
       "      <td>80456.265329</td>\n",
       "      <td>129</td>\n",
       "      <td>1.55393</td>\n",
       "      <td>65803.852912</td>\n",
       "      <td>0</td>\n",
       "    </tr>\n",
       "  </tbody>\n",
       "</table>\n",
       "</div>"
      ],
      "text/plain": [
       "       open_time      open      high       low     close   volume  \\\n",
       "0  1702771201000  42345.33  42345.87  42343.50  42343.50  0.10661   \n",
       "1  1702771202000  42345.21  42346.14  42343.50  42346.14  0.38771   \n",
       "2  1702771203000  42346.33  42346.60  42339.73  42345.40  0.74889   \n",
       "3  1702771204000  42345.40  42347.33  42336.31  42340.59  2.15105   \n",
       "4  1702771205000  42342.50  42352.74  42340.89  42348.95  1.89997   \n",
       "\n",
       "      close_time  quote_volume  count  taker_buy_volume  \\\n",
       "0  1702771201999   4514.444577     15           0.10625   \n",
       "1  1702771202999  16417.844110     24           0.38756   \n",
       "2  1702771203999  31710.160056     64           0.37118   \n",
       "3  1702771204999  91079.942084    146           0.71524   \n",
       "4  1702771205999  80456.265329    129           1.55393   \n",
       "\n",
       "   taker_buy_quote_volume  ignore  \n",
       "0             4499.200809       0  \n",
       "1            16411.492585       0  \n",
       "2            15716.851135       0  \n",
       "3            30286.018526       0  \n",
       "4            65803.852912       0  "
      ]
     },
     "execution_count": 4,
     "metadata": {},
     "output_type": "execute_result"
    }
   ],
   "source": [
    "df_fdusd.head()"
   ]
  },
  {
   "cell_type": "code",
   "execution_count": 5,
   "metadata": {},
   "outputs": [],
   "source": [
    "from statsmodels.tsa.stattools import grangercausalitytests"
   ]
  },
  {
   "cell_type": "code",
   "execution_count": 14,
   "metadata": {},
   "outputs": [
    {
     "name": "stdout",
     "output_type": "stream",
     "text": [
      "\n",
      "Granger Causality\n",
      "number of lags (no zero) 1\n",
      "ssr based F test:         F=132.0367, p=0.0000  , df_denom=996, df_num=1\n",
      "ssr based chi2 test:   chi2=132.4344, p=0.0000  , df=1\n",
      "likelihood ratio test: chi2=124.3622, p=0.0000  , df=1\n",
      "parameter F test:         F=132.0367, p=0.0000  , df_denom=996, df_num=1\n",
      "\n",
      "Granger Causality\n",
      "number of lags (no zero) 2\n",
      "ssr based F test:         F=51.8392 , p=0.0000  , df_denom=993, df_num=2\n",
      "ssr based chi2 test:   chi2=104.2005, p=0.0000  , df=2\n",
      "likelihood ratio test: chi2=99.1120 , p=0.0000  , df=2\n",
      "parameter F test:         F=51.8392 , p=0.0000  , df_denom=993, df_num=2\n"
     ]
    },
    {
     "data": {
      "text/plain": [
       "{1: ({'ssr_ftest': (132.0366582704342, 8.739430257665675e-29, 996.0, 1),\n",
       "   'ssr_chi2test': (132.4343590483572, 1.2021660147808547e-30, 1),\n",
       "   'lrtest': (124.36218573962697, 7.018846871688692e-29, 1),\n",
       "   'params_ftest': (132.0366582659061, 8.739430275265192e-29, 996.0, 1.0)},\n",
       "  [<statsmodels.regression.linear_model.RegressionResultsWrapper at 0x7fc8c291f610>,\n",
       "   <statsmodels.regression.linear_model.RegressionResultsWrapper at 0x7fc8c28afe50>,\n",
       "   array([[0., 1., 0.]])]),\n",
       " 2: ({'ssr_ftest': (51.839242234335586, 3.854054962526049e-22, 993.0, 2),\n",
       "   'ssr_chi2test': (104.20053121826167, 2.3612509206483224e-23, 2),\n",
       "   'lrtest': (99.11204576512546, 3.006718134926075e-22, 2),\n",
       "   'params_ftest': (51.839242233398, 3.8540549657983847e-22, 993.0, 2.0)},\n",
       "  [<statsmodels.regression.linear_model.RegressionResultsWrapper at 0x7fc8b1281e10>,\n",
       "   <statsmodels.regression.linear_model.RegressionResultsWrapper at 0x7fc8b1281210>,\n",
       "   array([[0., 0., 1., 0., 0.],\n",
       "          [0., 0., 0., 1., 0.]])])}"
      ]
     },
     "execution_count": 14,
     "metadata": {},
     "output_type": "execute_result"
    }
   ],
   "source": [
    "grangercausalitytests(pd.concat([df_usdt[\"close\"].head(1000), df_fdusd[\"close\"].head(1000)], axis=1), maxlag=2)"
   ]
  },
  {
   "cell_type": "code",
   "execution_count": 15,
   "metadata": {},
   "outputs": [
    {
     "name": "stdout",
     "output_type": "stream",
     "text": [
      "\n",
      "Granger Causality\n",
      "number of lags (no zero) 1\n",
      "ssr based F test:         F=0.5265  , p=0.4683  , df_denom=996, df_num=1\n",
      "ssr based chi2 test:   chi2=0.5281  , p=0.4674  , df=1\n",
      "likelihood ratio test: chi2=0.5279  , p=0.4675  , df=1\n",
      "parameter F test:         F=0.5265  , p=0.4683  , df_denom=996, df_num=1\n",
      "\n",
      "Granger Causality\n",
      "number of lags (no zero) 2\n",
      "ssr based F test:         F=3.4309  , p=0.0327  , df_denom=993, df_num=2\n",
      "ssr based chi2 test:   chi2=6.8964  , p=0.0318  , df=2\n",
      "likelihood ratio test: chi2=6.8726  , p=0.0322  , df=2\n",
      "parameter F test:         F=3.4309  , p=0.0327  , df_denom=993, df_num=2\n"
     ]
    },
    {
     "data": {
      "text/plain": [
       "{1: ({'ssr_ftest': (0.5264864549139969, 0.4682582341362713, 996.0, 1),\n",
       "   'ssr_chi2test': (0.5280722574890391, 0.46741845184234165, 1),\n",
       "   'lrtest': (0.5279327369307794, 0.4674772787471866, 1),\n",
       "   'params_ftest': (0.5264864549945111, 0.4682582341022805, 996.0, 1.0)},\n",
       "  [<statsmodels.regression.linear_model.RegressionResultsWrapper at 0x7fc8c291fed0>,\n",
       "   <statsmodels.regression.linear_model.RegressionResultsWrapper at 0x7fc8b1281910>,\n",
       "   array([[0., 1., 0.]])]),\n",
       " 2: ({'ssr_ftest': (3.4309076724575185, 0.03274163091352324, 993.0, 2),\n",
       "   'ssr_chi2test': (6.8963662781724135, 0.03180336621164541, 2),\n",
       "   'lrtest': (6.872647892032546, 0.03218277375883971, 2),\n",
       "   'params_ftest': (3.4309076723181775, 0.03274163091805437, 993.0, 2.0)},\n",
       "  [<statsmodels.regression.linear_model.RegressionResultsWrapper at 0x7fc8b12899d0>,\n",
       "   <statsmodels.regression.linear_model.RegressionResultsWrapper at 0x7fc8b1289790>,\n",
       "   array([[0., 0., 1., 0., 0.],\n",
       "          [0., 0., 0., 1., 0.]])])}"
      ]
     },
     "execution_count": 15,
     "metadata": {},
     "output_type": "execute_result"
    }
   ],
   "source": [
    "grangercausalitytests(pd.concat([df_fdusd[\"close\"].head(1000), df_usdt[\"close\"].head(1000)], axis=1), maxlag=2)"
   ]
  },
  {
   "cell_type": "code",
   "execution_count": null,
   "metadata": {},
   "outputs": [],
   "source": []
  }
 ],
 "metadata": {
  "kernelspec": {
   "display_name": "base",
   "language": "python",
   "name": "python3"
  },
  "language_info": {
   "codemirror_mode": {
    "name": "ipython",
    "version": 3
   },
   "file_extension": ".py",
   "mimetype": "text/x-python",
   "name": "python",
   "nbconvert_exporter": "python",
   "pygments_lexer": "ipython3",
   "version": "3.7.5"
  }
 },
 "nbformat": 4,
 "nbformat_minor": 2
}
